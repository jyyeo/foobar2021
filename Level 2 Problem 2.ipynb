{
 "cells": [
  {
   "cell_type": "code",
   "execution_count": null,
   "id": "df768298",
   "metadata": {},
   "outputs": [],
   "source": [
    "def solution(pegs):\n",
    "    # Your code here\n",
    "    dist = 0\n",
    "    for i in range(1, len(pegs)):\n",
    "        if i % 2 == 1: # is odd\n",
    "            dist += pegs[i] - pegs[i-1]\n",
    "        else:\n",
    "            dist -= pegs[i] - pegs[i-1]\n",
    "    if len(pegs) % 2 == 0:\n",
    "        a, b = dist * 2, 3\n",
    "    else:\n",
    "        a, b = dist * 2 * 3, 3\n",
    "    if a < b:\n",
    "        return [-1,-1]\n",
    "    curr = a\n",
    "    for i in range(1, len(pegs)):\n",
    "        print(curr/3)\n",
    "        prev = curr\n",
    "        curr = (pegs[i]-pegs[i-1]) * 3 - prev\n",
    "        if curr < 3:\n",
    "            return [-1,-1]\n",
    "    print(curr/3)\n",
    "    if curr != a // 2:\n",
    "        return [-1,-1]\n",
    "    if a % b == 0:\n",
    "        a //= b\n",
    "        b = 1\n",
    "    return [a, b]"
   ]
  }
 ],
 "metadata": {
  "kernelspec": {
   "display_name": "Python 3",
   "language": "python",
   "name": "python3"
  },
  "language_info": {
   "codemirror_mode": {
    "name": "ipython",
    "version": 3
   },
   "file_extension": ".py",
   "mimetype": "text/x-python",
   "name": "python",
   "nbconvert_exporter": "python",
   "pygments_lexer": "ipython3",
   "version": "3.8.8"
  }
 },
 "nbformat": 4,
 "nbformat_minor": 5
}
