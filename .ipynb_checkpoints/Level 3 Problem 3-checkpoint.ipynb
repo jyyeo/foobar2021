{
 "cells": [
  {
   "cell_type": "code",
   "execution_count": null,
   "id": "a5216314",
   "metadata": {},
   "outputs": [],
   "source": [
    "def solution(l):\n",
    "    # Your code here\n",
    "    if len(l) < 3:\n",
    "        return 0\n",
    "    \n",
    "    # O(N^2)\n",
    "    lst = [[] for _ in range(len(l))]\n",
    "    for i in range(len(l)): \n",
    "        for j in range(i+1,len(l)):\n",
    "            if l[j] % l[i] == 0:\n",
    "                lst[i] += [j]\n",
    "    count = 0\n",
    "    # O(N^2)\n",
    "    for i in range(len(l)):\n",
    "        for j in lst[i]:\n",
    "            count += len(lst[j])\n",
    "\n",
    "    return count"
   ]
  }
 ],
 "metadata": {
  "kernelspec": {
   "display_name": "Python 3",
   "language": "python",
   "name": "python3"
  },
  "language_info": {
   "codemirror_mode": {
    "name": "ipython",
    "version": 3
   },
   "file_extension": ".py",
   "mimetype": "text/x-python",
   "name": "python",
   "nbconvert_exporter": "python",
   "pygments_lexer": "ipython3",
   "version": "3.8.8"
  }
 },
 "nbformat": 4,
 "nbformat_minor": 5
}
