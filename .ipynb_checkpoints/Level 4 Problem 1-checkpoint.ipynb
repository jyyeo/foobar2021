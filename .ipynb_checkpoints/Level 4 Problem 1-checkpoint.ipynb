{
 "cells": [
  {
   "cell_type": "code",
   "execution_count": 1,
   "id": "55335dc5",
   "metadata": {},
   "outputs": [],
   "source": [
    "import copy\n",
    "def bellmanford(times):\n",
    "    n = len(times)\n",
    "    bf = [[float(\"inf\") for _ in range(n)] for _ in range(n)]\n",
    "    for s in range(n):\n",
    "        bf[s][s] = 0\n",
    "        for i in range(n-1):\n",
    "            for u in range(n):\n",
    "                for v in range(n):\n",
    "                    if bf[s][v] > bf[s][u] + times[u][v]:\n",
    "                        bf[s][v] = bf[s][u] + times[u][v]\n",
    "        for u in range(n):\n",
    "            for v in range(n):\n",
    "                if bf[s][v] > bf[s][u] + times[u][v]:\n",
    "                    return True, bf\n",
    "    return False, bf\n",
    "\n",
    "def solution(times, times_limit):\n",
    "    k = len(times)\n",
    "    if k <= 2:\n",
    "        return []\n",
    "    negLoops, bf = bellmanford(times)\n",
    "    if negLoops:\n",
    "        return [i for i in range(k-2)]\n",
    "    vertices = set([i for i in range(k)])\n",
    "    visited = [[i] for i in range(k)]\n",
    "    bunnySet = set()\n",
    "    # stack = [curr loc, path, time left, visited matrix]\n",
    "    stack = [[0,[0], times_limit, visited]]\n",
    "    while stack: # starts at starting point\n",
    "        [u, path, time, visited] = stack.pop()\n",
    "        for v in vertices - set(visited[u]):\n",
    "            u2v, v2b, v2u = bf[u][v], bf[v][-1], bf[v][u]\n",
    "            visitedCopy = copy.deepcopy(visited)\n",
    "            if u2v + v2u == 0:\n",
    "                visitedCopy[v] += [u]\n",
    "                visitedCopy[u] += [v]\n",
    "            if time - u2v - v2b >= 0: # can make it\n",
    "                nextPath = path + [v]\n",
    "                visitedCopy[v] += [u] \n",
    "                stack += [[v, nextPath, time-u2v, visitedCopy]]\n",
    "                if v == k-1:\n",
    "                    if len(set(nextPath)) > len(bunnySet) or \\\n",
    "                    (len(set(nextPath))==len(bunnySet) and sum(bunnySet) > sum(set(nextPath))):\n",
    "                        bunnySet = set(nextPath)\n",
    "                    if len(bunnySet) == k:\n",
    "                        return [i for i in range(k-2)]\n",
    "#         print(bunnySet, nextPath)\n",
    "    return sorted([i-1 for i in list(bunnySet)[1:-1]])"
   ]
  },
  {
   "cell_type": "markdown",
   "id": "c1b99380",
   "metadata": {},
   "source": [
    "Test cases:"
   ]
  },
  {
   "cell_type": "code",
   "execution_count": 2,
   "id": "baf52b44",
   "metadata": {},
   "outputs": [
    {
     "name": "stdout",
     "output_type": "stream",
     "text": [
      "[0, 1]\n"
     ]
    }
   ],
   "source": [
    "times = [[0, 2, 2, 2, -1], [9, 0, 2, 2, -2], [9, 3, 0, 2, -1], [9, 3, 2, 0, -1], [9, 3, 2, 2, 0]]\n",
    "print(solution(times,1))"
   ]
  },
  {
   "cell_type": "code",
   "execution_count": 3,
   "id": "3f448e8c",
   "metadata": {},
   "outputs": [
    {
     "name": "stdout",
     "output_type": "stream",
     "text": [
      "\n",
      "  Expected: [0, 1]\n",
      "Calculated: [0, 1]\n"
     ]
    }
   ],
   "source": [
    "case1 = [[0, 1, 1, 1, 1], [1, 0, 1, 1, 1], [1, 1, 0, 1, 1], [1, 1, 1, 0, 1], [1, 1, 1, 1, 0]]\n",
    "print(\"\\n  Expected: [0, 1]\\nCalculated:\", str(solution(case1, 3)))"
   ]
  },
  {
   "cell_type": "code",
   "execution_count": 4,
   "id": "47cc7db5",
   "metadata": {},
   "outputs": [
    {
     "name": "stdout",
     "output_type": "stream",
     "text": [
      "\n",
      "  Expected: [1, 2]\n",
      "Calculated: [1, 2]\n"
     ]
    }
   ],
   "source": [
    "case2 = [[0, 2, 2, 2, -1],\n",
    "             [9, 0, 2, 2, -1],\n",
    "             [9, 3, 0, 2, -1],\n",
    "             [9, 3, 2, 0, -1],\n",
    "             [9, 3, 2, 2, 0]]\n",
    "print(\"\\n  Expected: [1, 2]\\nCalculated:\", str(solution(case2, 1)))"
   ]
  },
  {
   "cell_type": "code",
   "execution_count": 5,
   "id": "ea1b9238",
   "metadata": {},
   "outputs": [
    {
     "name": "stdout",
     "output_type": "stream",
     "text": [
      "\n",
      "  Expected: [0, 1, 2]\n",
      "Calculated: [0, 1, 2]\n"
     ]
    }
   ],
   "source": [
    "case3 = [[0, 2, 2, 2, -1],\n",
    "         [9, 0, 2, 2, 0],\n",
    "         [9, 3, 0, 2, 0],\n",
    "         [9, 3, 2, 0, 0],\n",
    "         [-1, 3, 2, 2, 0]]\n",
    "print(\"\\n  Expected: [0, 1, 2]\\nCalculated:\", str(solution(case3, 1)))"
   ]
  },
  {
   "cell_type": "code",
   "execution_count": 229,
   "id": "85db4c38",
   "metadata": {},
   "outputs": [
    {
     "name": "stdout",
     "output_type": "stream",
     "text": [
      "\n",
      "  Expected: []\n",
      "Calculated: []\n"
     ]
    }
   ],
   "source": [
    "case4 = [[1, 1, 1, 1, 1, 1, 1],\n",
    "         [1, 1, 1, 1, 1, 1, 1],\n",
    "         [1, 1, 1, 1, 1, 1, 1],\n",
    "         [1, 1, 1, 1, 1, 1, 1],\n",
    "         [1, 1, 1, 1, 1, 1, 1],\n",
    "         [1, 1, 1, 1, 1, 1, 1],\n",
    "         [1, 1, 1, 1, 1, 1, 1]]\n",
    "print(\"\\n  Expected: []\\nCalculated:\", str(solution(case4, 1)))"
   ]
  },
  {
   "cell_type": "code",
   "execution_count": 230,
   "id": "8f0ee458",
   "metadata": {},
   "outputs": [
    {
     "name": "stdout",
     "output_type": "stream",
     "text": [
      "\n",
      "  Expected: [0]\n",
      "Calculated: [0]\n"
     ]
    }
   ],
   "source": [
    "case5 = [[1, 1, 1],\n",
    "         [1, 1, 1],\n",
    "         [1, 1, 1]]\n",
    "print(\"\\n  Expected: [0]\\nCalculated:\", str(solution(case5, 2)))"
   ]
  },
  {
   "cell_type": "code",
   "execution_count": 231,
   "id": "f2e9ba43",
   "metadata": {},
   "outputs": [
    {
     "name": "stdout",
     "output_type": "stream",
     "text": [
      "\n",
      "  Expected: [0, 1]\n",
      "Calculated: [0, 1]\n"
     ]
    }
   ],
   "source": [
    "case6 = [[0, 5, 11, 11, 1],\n",
    "         [10, 0, 1, 5, 1],\n",
    "         [10, 1, 0, 4, 0],\n",
    "         [10, 1, 5, 0, 1],\n",
    "         [10, 10, 10, 10, 0]]\n",
    "print(\"\\n  Expected: [0, 1]\\nCalculated:\", str(solution(case6, 10)))"
   ]
  },
  {
   "cell_type": "code",
   "execution_count": 232,
   "id": "de66758f",
   "metadata": {},
   "outputs": [
    {
     "name": "stdout",
     "output_type": "stream",
     "text": [
      "\n",
      "  Expected: [0, 1]\n",
      "Calculated: [0, 1]\n"
     ]
    }
   ],
   "source": [
    "case7 = [[0, 10, 10, 10, 1],\n",
    "             [0, 0, 10, 10, 10],\n",
    "             [0, 10, 0, 10, 10],\n",
    "             [0, 10, 10, 0, 10],\n",
    "             [1, 1, 1, 1, 0]]\n",
    "print(\"\\n  Expected: [0, 1]\\nCalculated:\", str(solution(case7, 5)))"
   ]
  },
  {
   "cell_type": "code",
   "execution_count": 233,
   "id": "380912cc",
   "metadata": {},
   "outputs": [
    {
     "name": "stdout",
     "output_type": "stream",
     "text": [
      "\n",
      "  Expected: [0, 1, 2]\n",
      "Calculated: [0, 1, 2]\n"
     ]
    }
   ],
   "source": [
    "case8 = [[0, 0, 0, 0, 0],\n",
    "        [0, 0, 0, 0, 0],\n",
    "        [0, 0, 0, 0, 0],\n",
    "        [0, 0, 0, 0, 0],\n",
    "        [0, 0, 0, 0, 0]]\n",
    "print(\"\\n  Expected: [0, 1, 2]\\nCalculated:\", str(solution(case8, 1)))"
   ]
  },
  {
   "cell_type": "code",
   "execution_count": 234,
   "id": "cc9f9996",
   "metadata": {},
   "outputs": [
    {
     "name": "stdout",
     "output_type": "stream",
     "text": [
      "\n",
      "  Expected: []\n",
      "Calculated: []\n"
     ]
    }
   ],
   "source": [
    "case9 = [[2, 2],\n",
    "         [2, 2]]\n",
    "print(\"\\n  Expected: []\\nCalculated:\", str(solution(case9, 1)))"
   ]
  },
  {
   "cell_type": "code",
   "execution_count": 235,
   "id": "b2393837",
   "metadata": {},
   "outputs": [
    {
     "name": "stdout",
     "output_type": "stream",
     "text": [
      "\n",
      "  Expected: [0, 1, 2]\n",
      "Calculated: [0, 1, 2]\n"
     ]
    }
   ],
   "source": [
    "case10 = [[0, 10, 10, 1, 10],\n",
    "              [10, 0, 10, 10, 1],\n",
    "              [10, 1, 0, 10, 10],\n",
    "              [10, 10, 1, 0, 10],\n",
    "              [1, 10, 10, 10, 0]]\n",
    "print(\"\\n  Expected: [0, 1, 2]\\nCalculated:\", str(solution(case10, 6)))"
   ]
  },
  {
   "cell_type": "code",
   "execution_count": 251,
   "id": "16afdd58",
   "metadata": {},
   "outputs": [
    {
     "name": "stdout",
     "output_type": "stream",
     "text": [
      "(False, [[0, 10, 1, 2, 10], [10, 0, 0, 1, 10], [1, 1, -10, -9, 1], [2, 2, -9, -8, 2], [10, 10, 2, 3, 0]])\n"
     ]
    }
   ],
   "source": [
    "case11 = [[0, 10, 11, 10, 10],\n",
    "          [10, 0, 10, 10, 10],\n",
    "          [10, 10, 0, -1, 10],\n",
    "          [10, 10, -1, 0, 10],\n",
    "          [10, 10, 10, 10, 0]]\n",
    "print(bellmanford(case11,1))"
   ]
  }
 ],
 "metadata": {
  "kernelspec": {
   "display_name": "Python 3",
   "language": "python",
   "name": "python3"
  },
  "language_info": {
   "codemirror_mode": {
    "name": "ipython",
    "version": 3
   },
   "file_extension": ".py",
   "mimetype": "text/x-python",
   "name": "python",
   "nbconvert_exporter": "python",
   "pygments_lexer": "ipython3",
   "version": "3.8.8"
  }
 },
 "nbformat": 4,
 "nbformat_minor": 5
}
