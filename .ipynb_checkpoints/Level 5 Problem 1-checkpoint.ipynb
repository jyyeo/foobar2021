{
 "cells": [
  {
   "cell_type": "code",
   "execution_count": 1,
   "id": "1eb579c7",
   "metadata": {},
   "outputs": [],
   "source": [
    "# https://math.stackexchange.com/questions/2052179/how-to-find-sum-i-1n-left-lfloor-i-sqrt2-right-rfloor-a001951-a-beatty-s\n",
    "import math\n",
    "from math import sqrt\n",
    "from decimal import *\n",
    "def solution(s):\n",
    "    # Your code here\n",
    "    getcontext().prec = 1000\n",
    "    n = int(s)\n",
    "    sqrt2 = Decimal(2).sqrt()\n",
    "    def recur(n):\n",
    "        if n == 0:\n",
    "            return 0\n",
    "        n_prime = int((sqrt2-1)*n)\n",
    "        return n*n_prime + n*(n+1)/2 - n_prime*(n_prime+1)/2 - recur(n_prime)\n",
    "    return str(recur(n))"
   ]
  }
 ],
 "metadata": {
  "kernelspec": {
   "display_name": "Python 3",
   "language": "python",
   "name": "python3"
  },
  "language_info": {
   "codemirror_mode": {
    "name": "ipython",
    "version": 3
   },
   "file_extension": ".py",
   "mimetype": "text/x-python",
   "name": "python",
   "nbconvert_exporter": "python",
   "pygments_lexer": "ipython3",
   "version": "3.8.8"
  }
 },
 "nbformat": 4,
 "nbformat_minor": 5
}
