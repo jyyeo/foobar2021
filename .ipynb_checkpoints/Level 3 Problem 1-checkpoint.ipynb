{
 "cells": [
  {
   "cell_type": "code",
   "execution_count": null,
   "id": "e9d3568f",
   "metadata": {},
   "outputs": [],
   "source": [
    "from collections import deque\n",
    "def solution(map):\n",
    "    q = deque()\n",
    "    q.append((0,0,False))\n",
    "    cost = {(0,0,False): 1}\n",
    "    while q:\n",
    "        r, c, opened = q.popleft()\n",
    "        if r == len(map)-1 and c == len(map[0])-1:\n",
    "            return cost[(r,c,opened)]\n",
    "        for i,j in ((r-1,c),(r+1,c), (r,c-1), (r,c+1)):\n",
    "            if 0 <= i < len(map) and 0 <= j < len(map[0]):\n",
    "                if map[i][j] == 0 and (i,j,opened) not in cost:\n",
    "                    cost[(i,j,opened)] = cost[(r,c,opened)] + 1\n",
    "                    q.append((i,j,opened))\n",
    "                elif map[i][j] == 1 and opened == False and (i,j,opened) not in cost:\n",
    "                    cost[(i,j,True)] = cost[(r,c,opened)] + 1\n",
    "                    q.append((i,j,True))"
   ]
  }
 ],
 "metadata": {
  "kernelspec": {
   "display_name": "Python 3",
   "language": "python",
   "name": "python3"
  },
  "language_info": {
   "codemirror_mode": {
    "name": "ipython",
    "version": 3
   },
   "file_extension": ".py",
   "mimetype": "text/x-python",
   "name": "python",
   "nbconvert_exporter": "python",
   "pygments_lexer": "ipython3",
   "version": "3.8.8"
  }
 },
 "nbformat": 4,
 "nbformat_minor": 5
}
