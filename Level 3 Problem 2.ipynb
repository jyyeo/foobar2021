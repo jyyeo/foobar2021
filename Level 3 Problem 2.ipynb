{
 "cells": [
  {
   "cell_type": "code",
   "execution_count": null,
   "id": "66252803",
   "metadata": {},
   "outputs": [],
   "source": [
    "def solution(x, y):\n",
    "    # Your code here\n",
    "    x,y = int(x), int(y)\n",
    "    gen = 0\n",
    "    while x > 1 or y > 1:\n",
    "        if x == y or x == 0 or y == 0:\n",
    "            return 'impossible'\n",
    "        if x > y:\n",
    "            quo, rem = (x-1) // y, (x-1) % y\n",
    "            gen += quo\n",
    "            x = rem + 1\n",
    "        else:\n",
    "            quo, rem = (y-1) // x, (y-1) % x\n",
    "            gen += quo\n",
    "            y = rem + 1\n",
    "        print(gen, quo, x,y)\n",
    "    return str(gen)"
   ]
  }
 ],
 "metadata": {
  "kernelspec": {
   "display_name": "Python 3",
   "language": "python",
   "name": "python3"
  },
  "language_info": {
   "codemirror_mode": {
    "name": "ipython",
    "version": 3
   },
   "file_extension": ".py",
   "mimetype": "text/x-python",
   "name": "python",
   "nbconvert_exporter": "python",
   "pygments_lexer": "ipython3",
   "version": "3.8.8"
  }
 },
 "nbformat": 4,
 "nbformat_minor": 5
}
